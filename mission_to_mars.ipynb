{
 "cells": [
  {
   "cell_type": "code",
   "execution_count": 1,
   "metadata": {},
   "outputs": [],
   "source": [
    "from splinter import Browser\n",
    "from bs4 import BeautifulSoup\n",
    "import pandas as pd\n",
    "from pandas import DataFrame"
   ]
  },
  {
   "cell_type": "code",
   "execution_count": 2,
   "metadata": {},
   "outputs": [],
   "source": [
    "executable_path = {'executable_path': 'chromedriver.exe'}\n",
    "browser = Browser('chrome', **executable_path, headless=False)"
   ]
  },
  {
   "cell_type": "code",
   "execution_count": 3,
   "metadata": {},
   "outputs": [],
   "source": [
    "url = 'https://mars.nasa.gov/news/'\n",
    "browser.visit(url)"
   ]
  },
  {
   "cell_type": "code",
   "execution_count": 4,
   "metadata": {},
   "outputs": [
    {
     "name": "stdout",
     "output_type": "stream",
     "text": [
      "-----------\n",
      "Opportunity Hunkers Down During Dust Storm\n",
      "Science operations for NASA's Opportunity rover have been temporarily suspended as it waits out a growing dust storm on Mars.\n",
      "-----------\n",
      "NASA Finds Ancient Organic Material, Mysterious Methane on Mars\n",
      "NASA’s Curiosity rover has found evidence on Mars with implications for NASA’s search for life.\n",
      "-----------\n",
      "NASA to Host Live Discussion on New Mars Science Results\n",
      "Questions are welcome during a live discussion at 11 a.m. PDT (2 p.m. EDT) Thursday, June 7, on new science results from NASA's Mars Curiosity rover.\n",
      "-----------\n",
      "Mars Curiosity's Labs Are Back in Action\n",
      "NASA's Curiosity rover is analyzing drilled samples on Mars in one of its onboard labs for the first time in more than a year.\n",
      "-----------\n",
      "NASA CubeSats Steer Toward Mars\n",
      "NASA has achieved a first for the class of tiny spacecraft known as CubeSats, which are opening new access to space.\n",
      "-----------\n",
      "Scientists Shrink Chemistry Lab to Seek Evidence of Life on Mars\n",
      "An international team of scientists has created a tiny chemistry lab for a rover that will drill beneath the Martian surface looking for signs of past or present life.\n",
      "-----------\n",
      "InSight Steers Toward Mars\n",
      "The spacecraft has completed its first trajectory correction maneuver.\n",
      "-----------\n",
      "Drilling Success: Curiosity is Collecting Mars Rocks\n",
      "Engineers will now test delivering samples to instruments inside NASA's Curiosity Mars rover.\n",
      "-----------\n",
      "NASA's Curiosity Rover Aims to Get Its Rhythm Back\n",
      "Rover engineers at JPL will try to restore percussive drilling on Mars this week, part of a larger series of tests that will last through summer.\n",
      "-----------\n",
      "A Pale Blue Dot, As Seen by a CubeSat\n",
      "One of NASA's MarCO CubeSats has taken its first image.\n",
      "-----------\n",
      "Mars Helicopter to Fly on NASA’s Next Red Planet Rover Mission\n",
      "NASA is adding a Mars helicopter to the agency’s next mission to the Red Planet, Mars 2020.\n",
      "-----------\n",
      "NASA's First Deep-Space CubeSats Say: 'Polo!'\n",
      "MarCO is a pair of tiny spacecraft that launched with NASA's InSight lander today.\n",
      "-----------\n",
      "NASA, ULA Launch Mission to Study How Mars Was Made\n",
      "NASA’s Mars InSight mission launched this morning on a 300-million-mile trip to Mars to study for the first time what lies deep beneath the surface of the Red Planet.\n",
      "-----------\n",
      "NASA’s First Mission to Study the Interior of Mars Awaits May 5 Launch\n",
      "All systems are go for NASA’s next launch to the Red Planet. \n",
      "-----------\n",
      "Vice President Pence Visits JPL, Previews NASA’s Next Mars Mission Launch\n",
      "A week before NASA's next Mars launch, Vice President Mike Pence toured the birthplace of the InSight Mars Lander and numerous other past, present and future space missions.\n",
      "-----------\n",
      "NASA Sets Sights on May 5 Launch of InSight to Mars\n",
      "NASA’s next mission to Mars, InSight, is scheduled to launch Saturday, May 5, on a first-ever mission to study the heart of the Red Planet.\n",
      "-----------\n",
      "Results of Heat Shield Testing\n",
      "A post-test inspection of the composite structure for a heat shield to be used on the Mars 2020 mission revealed that a fracture occurred during structural testing.\n",
      "-----------\n",
      "NASA Engineers Dream Big with Small Spacecraft\n",
      "The first CubeSat mission to deep space will launch in May.\n",
      "-----------\n",
      "Bound for Mars: Countdown to First Interplanetary Launch from California\n",
      "On May 5, millions of Californians may witness the historic first interplanetary launch from America’s West Coast.\n",
      "-----------\n",
      "NASA Invests in Visionary Technology \n",
      "NASA is investing in technology concepts, including several from JPL, that may one day be used for future space exploration missions.\n",
      "-----------\n",
      "NASA is Ready to Study the Heart of Mars\n",
      "NASA is about to go on a journey to study the center of Mars.\n",
      "-----------\n",
      "‘Marsquakes’ Could Shake Up Planetary Science\n",
      "InSight, the next mission to the Red Planet, will use seismology to see into the depths of Mars.\n",
      "-----------\n",
      "Mars Curiosity Celebrates Sol 2,000\n",
      "NASA's Mars Curiosity rover just hit a new milestone: its two-thousandth Martian day on the Red Planet. An image mosaic taken recently offers a preview of what comes next.\n",
      "-----------\n",
      "NASA Briefing on First Mission to Study Mars Interior\n",
      "NASA’s next mission to Mars will be the topic of a media briefing Thursday, March 29, at JPL. The briefing will air live on NASA Television and the agency’s website.\n",
      "-----------\n",
      "New 'AR' Mobile App Features 3-D NASA Spacecraft\n",
      "NASA spacecraft travel to far-off destinations in space, but a new mobile app produced by NASA's Jet Propulsion Laboratory, Pasadena, California, brings spacecraft to users.\n",
      "-----------\n",
      "NASA Mars Mission Tours California\n",
      "Scientists and engineers with NASA's next mission to Mars will be touring California cities starting this month.\n",
      "-----------\n",
      "Next NASA Mars Rover Reaches Key Manufacturing Milestone\n",
      "NASA's Mars 2020 mission has begun the assembly, test and launch operations (ATLO) phase of its development, on track for a July 2020 launch to Mars.\n",
      "-----------\n",
      "Witness First Mars Launch from West Coast\n",
      "NASA invites digital creators to apply for social media credentials to cover the launch of the InSight mission to Mars, May 3-5, at California's Vandenberg Air Force Base.\n",
      "-----------\n",
      "360 Video: Tour a Mars Robot Test Lab\n",
      "Engineers are practicing operations for NASA's Mars InSight lander, which is launching this spring.\n",
      "-----------\n",
      "NASA InSight Mission to Mars Arrives at Launch Site\n",
      "NASA's InSight spacecraft has arrived at Vandenberg Air Force Base in central California to begin final preparations for a launch this May.\n",
      "-----------\n",
      "Curiosity Tests a New Way to Drill on Mars\n",
      "NASA's Mars Curiosity rover has conducted the first test of a new drilling technique on the Red Planet since its drill stopped working reliably.     \n",
      "-----------\n",
      "Seven Ways Mars InSight is Different\n",
      "NASA has a long and successful track record at Mars. Since 1965, it has flown by, orbited, landed and roved across the surface of the Red Planet. What can InSight -- planned for launch in May -- do that hasn’t been done before?\n",
      "-----------\n",
      "Nearly a Decade After Mars Phoenix Landed, Another Look\n",
      "A recent view from Mars orbit of the site where NASA's Phoenix Mars mission landed on far-northern Mars nearly a decade ago captures changes.\n",
      "-----------\n",
      "Spacecraft Exits Safe Mode\n",
      "Diagnostic work is the focus for resuming service and exiting safe standby status.\n",
      "-----------\n",
      "5,000 Days on Mars; Solar-Powered Rover Approaching 5,000th Martian Dawn\n",
      "The Sun will rise on NASA's solar-powered Mars rover Opportunity for the 5,000th time on Saturday, sending rays of energy to a robot that continues to provide revelations.\n",
      "-----------\n",
      "Long-Lived Mars Rover Opportunity Keeps Finding Surprises\n",
      "NASA's Mars Exploration Rover Opportunity keeps providing surprises about the Red Planet, most recently with observations of possible \"rock stripes.\"\n",
      "-----------\n",
      "A Piece of Mars is Going Home\n",
      "When it launches in 2020, NASA's next Mars rover will carry a chunk of Martian meteorite on board.\n",
      "-----------\n",
      "Mars Reconnaissance Orbiter Preparing for Years Ahead\n",
      "NASA's Mars Reconnaissance Orbiter (MRO) has begun extra stargazing to help the space agency accomplish advances in Mars exploration over the next decade.\n",
      "-----------\n",
      "Tiny Crystal Shapes Get Close Look From Mars Rover\n",
      "Star-shaped, tiny, dark bumps in the fine-layered bright bedrock of a Martian ridge are drawing close inspection by NASA's Curiosity Mars rover.\n",
      "-----------\n",
      "NASA Tests Atomic Clock for Deep Space Navigation\n",
      "Project could help spacecraft keep time more efficiently and allow ground stations to better track multiple satellites at once near crowded areas like Mars.\n"
     ]
    }
   ],
   "source": [
    "# Iterate through all pages\n",
    "#for x in range(1, 8):\n",
    "    # HTML object\n",
    "html = browser.html\n",
    "    # Parse HTML with Beautiful Soup\n",
    "soup = BeautifulSoup(html, 'html.parser')\n",
    "    # Retrieve all elements that contain book information\n",
    "articles = soup.find_all('li', class_='slide')\n",
    "\n",
    "    # Iterate through each book\n",
    "for article in articles:\n",
    "        # Use Beautiful Soup's find() method to navigate and retrieve attributes\n",
    "    div = article.find('div', class_='content_title')\n",
    "    news_p = article.find('div', class_='article_teaser_body')\n",
    "    news_title = div.find('a')\n",
    "    print('-----------')\n",
    "    print(news_title.text)\n",
    "    print(news_p.text)\n",
    "\n",
    "# Click the 'Next' button on each page\n",
    "    #browser.click_link_by_partial_text('more')"
   ]
  },
  {
   "cell_type": "code",
   "execution_count": 5,
   "metadata": {},
   "outputs": [
    {
     "data": {
      "text/plain": [
       "'https://www.jpl.nasa.gov/spaceimages/images/largesize/PIA22456_hires.jpg'"
      ]
     },
     "execution_count": 5,
     "metadata": {},
     "output_type": "execute_result"
    }
   ],
   "source": [
    "#JPL Mars Space Images - Featured Image\n",
    "featured_image_url = 'https://www.jpl.nasa.gov/spaceimages/images/largesize/PIA22456_hires.jpg'\n",
    "featured_image_url"
   ]
  },
  {
   "cell_type": "code",
   "execution_count": 6,
   "metadata": {},
   "outputs": [],
   "source": [
    "#Mars Weather\n",
    "tweeter_url = 'https://twitter.com/marswxreport?lang=en'\n",
    "browser.visit(tweeter_url)"
   ]
  },
  {
   "cell_type": "code",
   "execution_count": 7,
   "metadata": {},
   "outputs": [],
   "source": [
    "weather_html = browser.html\n",
    "weather_soup = BeautifulSoup(weather_html, 'html.parser')\n",
    "weather_twitter = weather_soup.find_all('li', class_='js-stream-item')"
   ]
  },
  {
   "cell_type": "code",
   "execution_count": 8,
   "metadata": {},
   "outputs": [
    {
     "name": "stdout",
     "output_type": "stream",
     "text": [
      "-----------\n",
      "This storm hit us by surprise. But by chance we happened to be in about the best configuration possible to weather this storm. Another saving grace is dust storms trap heat, so it won’t get as cold at night.\n",
      "-----------\n",
      "Sol 2074 (2018-06-07), Sunny, high 6C/42F, low -70C/-93F, pressure at 7.58 hPa, daylight 05:18-17:21\n",
      "-----------\n",
      "The Mars rover Opportunity is hunkered down in the aptly named Perseverance Valley ahead of the arrival of a dust storm greater in area than North America https://mars.nasa.gov/news/8348/opportunity-hunkers-down-during-dust-storm/ …pic.twitter.com/z6GsrvRkCV\n",
      "-----------\n",
      "Sol 2074 (2018-06-07), Sunny, high 6C/42F, low -70C/-93F, pressure at 7.58 hPa, daylight 05:18-17:21\n",
      "-----------\n",
      "Sol 2073 (2018-06-06), Sunny, high 7C/44F, low -74C/-101F, pressure at 7.56 hPa, daylight 05:18-17:21\n",
      "-----------\n",
      "This is what a solar eclipse looks like on Mars.  Phobos passing in front of the Sun on May 6, 2017, as observed by @MarsRovers Opportunitypic.twitter.com/JL0w4jcbQy\n",
      "-----------\n",
      "The mystery Jupiter’s lightning first observed by the Voyager 1 mission has been solved by @NASAJuno https://www.nasa.gov/feature/jpl/juno-solves-39-year-old-mystery-of-jupiter-lightning/ …pic.twitter.com/s8KZ8cIWjB\n",
      "-----------\n",
      "Oh, these are #organics in my neighborhood... Methane swells each summer and ancient carbon-compounds locked in rocks. I haven't found life on Mars, but signs say…we’re on the right track. https://go.nasa.gov/2HwATPi pic.twitter.com/ownp0modD4\n",
      "-----------\n",
      "Sol 2072 (2018-06-05), Sunny, high 6C/42F, low -71C/-95F, pressure at 7.58 hPa, daylight 05:18-17:21\n",
      "-----------\n",
      "Sol 2071 (2018-06-04), Sunny, high 4C/39F, low -71C/-95F, pressure at 7.55 hPa, daylight 05:18-17:20\n",
      "-----------\n",
      "Sol 2070 (June 02, 2018), Sunny, high 3C/37F, low -70C/-93F, pressure at 7.57 hPa, daylight 05:19-17:20\n",
      "-----------\n",
      "Saturn’s planet-sized moon Titan, its encircling atmosphere backlit by the Sun, as seen 12 years ago today. Details: https://go.nasa.gov/2HadMcO  #SaturnSaturdaypic.twitter.com/zeVCa1N2vd\n",
      "-----------\n",
      "Sol 2067 (May 30, 2018), Sunny, high 3C/37F, low -74C/-101F, pressure at 7.43 hPa, daylight 05:19-17:20\n",
      "-----------\n",
      "Three views of #ISS pass tonight as seen from The Hague, NL. 7 x 0.2 ms unfiltered mono in Celestron 8\" at f/10.pic.twitter.com/5PvF1ECjjf\n",
      "-----------\n",
      "Sol 2063 (May 26, 2018), Sunny, high 3C/37F, low -71C/-95F, pressure at 7.48 hPa, daylight 05:19-17:20\n",
      "-----------\n",
      "Sol 2062 (May 25, 2018), Sunny, high 2C/35F, low -72C/-97F, pressure at 7.45 hPa, daylight 05:19-17:20\n",
      "-----------\n",
      "Sol 2060 (May 23, 2018), Sunny, high 4C/39F, low -73C/-99F, pressure at 7.43 hPa, daylight 05:20-17:20\n",
      "-----------\n",
      "On this day in 1961, President Kennedy asked a joint session of Congress to commit to \"achieving the goal, before this decade is out, of landing a man on the Moon and returning him safely to the Earth.\"https://www.youtube.com/watch?v=TUXuV7XbZvU …\n",
      "-----------\n",
      "Sol 2058 (May 21, 2018), Sunny, high 4C/39F, low -71C/-95F, pressure at 7.43 hPa, daylight 05:20-17:20\n",
      "-----------\n",
      "Welcome Spring! (to @MarsCuriosity’s home in the southern hemisphere of Mars). May 22 at 1431 UTC Mars reached a solar longitude of 180° in its trip around the sunpic.twitter.com/bzbkEwvfE4\n"
     ]
    }
   ],
   "source": [
    "for weather_tweet in weather_twitter:\n",
    "    mars_weather = weather_tweet.find('p', class_='tweet-text')\n",
    "    print('-----------')\n",
    "    print(mars_weather.text)"
   ]
  },
  {
   "cell_type": "code",
   "execution_count": 9,
   "metadata": {},
   "outputs": [
    {
     "data": {
      "text/plain": [
       "list"
      ]
     },
     "execution_count": 9,
     "metadata": {},
     "output_type": "execute_result"
    }
   ],
   "source": [
    "#Mars Facts\n",
    "fact_url = 'https://space-facts.com/mars/'\n",
    "tables = pd.read_html(fact_url)\n",
    "tables\n",
    "type(tables)"
   ]
  },
  {
   "cell_type": "code",
   "execution_count": 10,
   "metadata": {},
   "outputs": [
    {
     "data": {
      "text/html": [
       "<div>\n",
       "<style scoped>\n",
       "    .dataframe tbody tr th:only-of-type {\n",
       "        vertical-align: middle;\n",
       "    }\n",
       "\n",
       "    .dataframe tbody tr th {\n",
       "        vertical-align: top;\n",
       "    }\n",
       "\n",
       "    .dataframe thead th {\n",
       "        text-align: right;\n",
       "    }\n",
       "</style>\n",
       "<table border=\"1\" class=\"dataframe\">\n",
       "  <thead>\n",
       "    <tr style=\"text-align: right;\">\n",
       "      <th></th>\n",
       "      <th>value</th>\n",
       "    </tr>\n",
       "    <tr>\n",
       "      <th>description</th>\n",
       "      <th></th>\n",
       "    </tr>\n",
       "  </thead>\n",
       "  <tbody>\n",
       "    <tr>\n",
       "      <th>Equatorial Diameter:</th>\n",
       "      <td>6,792 km</td>\n",
       "    </tr>\n",
       "    <tr>\n",
       "      <th>Polar Diameter:</th>\n",
       "      <td>6,752 km</td>\n",
       "    </tr>\n",
       "    <tr>\n",
       "      <th>Mass:</th>\n",
       "      <td>6.42 x 10^23 kg (10.7% Earth)</td>\n",
       "    </tr>\n",
       "    <tr>\n",
       "      <th>Moons:</th>\n",
       "      <td>2 (Phobos &amp; Deimos)</td>\n",
       "    </tr>\n",
       "    <tr>\n",
       "      <th>Orbit Distance:</th>\n",
       "      <td>227,943,824 km (1.52 AU)</td>\n",
       "    </tr>\n",
       "  </tbody>\n",
       "</table>\n",
       "</div>"
      ],
      "text/plain": [
       "                                              value\n",
       "description                                        \n",
       "Equatorial Diameter:                       6,792 km\n",
       "Polar Diameter:                            6,752 km\n",
       "Mass:                 6.42 x 10^23 kg (10.7% Earth)\n",
       "Moons:                          2 (Phobos & Deimos)\n",
       "Orbit Distance:            227,943,824 km (1.52 AU)"
      ]
     },
     "execution_count": 10,
     "metadata": {},
     "output_type": "execute_result"
    }
   ],
   "source": [
    "df = tables[0]\n",
    "df.columns = ['description', 'value']\n",
    "df.set_index('description', inplace=True)\n",
    "df.head()"
   ]
  },
  {
   "cell_type": "code",
   "execution_count": 11,
   "metadata": {},
   "outputs": [
    {
     "data": {
      "text/plain": [
       "'<table border=\"1\" class=\"dataframe\">\\n  <thead>\\n    <tr style=\"text-align: right;\">\\n      <th></th>\\n      <th>value</th>\\n    </tr>\\n    <tr>\\n      <th>description</th>\\n      <th></th>\\n    </tr>\\n  </thead>\\n  <tbody>\\n    <tr>\\n      <th>Equatorial Diameter:</th>\\n      <td>6,792 km</td>\\n    </tr>\\n    <tr>\\n      <th>Polar Diameter:</th>\\n      <td>6,752 km</td>\\n    </tr>\\n    <tr>\\n      <th>Mass:</th>\\n      <td>6.42 x 10^23 kg (10.7% Earth)</td>\\n    </tr>\\n    <tr>\\n      <th>Moons:</th>\\n      <td>2 (Phobos &amp; Deimos)</td>\\n    </tr>\\n    <tr>\\n      <th>Orbit Distance:</th>\\n      <td>227,943,824 km (1.52 AU)</td>\\n    </tr>\\n    <tr>\\n      <th>Orbit Period:</th>\\n      <td>687 days (1.9 years)</td>\\n    </tr>\\n    <tr>\\n      <th>Surface Temperature:</th>\\n      <td>-153 to 20 °C</td>\\n    </tr>\\n    <tr>\\n      <th>First Record:</th>\\n      <td>2nd millennium BC</td>\\n    </tr>\\n    <tr>\\n      <th>Recorded By:</th>\\n      <td>Egyptian astronomers</td>\\n    </tr>\\n  </tbody>\\n</table>'"
      ]
     },
     "execution_count": 11,
     "metadata": {},
     "output_type": "execute_result"
    }
   ],
   "source": [
    "html_table = df.to_html()\n",
    "html_table"
   ]
  },
  {
   "cell_type": "code",
   "execution_count": 15,
   "metadata": {},
   "outputs": [
    {
     "data": {
      "text/plain": [
       "'<table border=\"1\" class=\"dataframe\">  <thead>    <tr style=\"text-align: right;\">      <th></th>      <th>value</th>    </tr>    <tr>      <th>description</th>      <th></th>    </tr>  </thead>  <tbody>    <tr>      <th>Equatorial Diameter:</th>      <td>6,792 km</td>    </tr>    <tr>      <th>Polar Diameter:</th>      <td>6,752 km</td>    </tr>    <tr>      <th>Mass:</th>      <td>6.42 x 10^23 kg (10.7% Earth)</td>    </tr>    <tr>      <th>Moons:</th>      <td>2 (Phobos &amp; Deimos)</td>    </tr>    <tr>      <th>Orbit Distance:</th>      <td>227,943,824 km (1.52 AU)</td>    </tr>    <tr>      <th>Orbit Period:</th>      <td>687 days (1.9 years)</td>    </tr>    <tr>      <th>Surface Temperature:</th>      <td>-153 to 20 °C</td>    </tr>    <tr>      <th>First Record:</th>      <td>2nd millennium BC</td>    </tr>    <tr>      <th>Recorded By:</th>      <td>Egyptian astronomers</td>    </tr>  </tbody></table>'"
      ]
     },
     "execution_count": 15,
     "metadata": {},
     "output_type": "execute_result"
    }
   ],
   "source": [
    "html_table.replace('\\n', '')"
   ]
  },
  {
   "cell_type": "code",
   "execution_count": 16,
   "metadata": {},
   "outputs": [],
   "source": [
    "df.to_html('table.html')"
   ]
  },
  {
   "cell_type": "code",
   "execution_count": null,
   "metadata": {},
   "outputs": [],
   "source": []
  }
 ],
 "metadata": {
  "kernelspec": {
   "display_name": "Python [default]",
   "language": "python",
   "name": "python3"
  },
  "language_info": {
   "codemirror_mode": {
    "name": "ipython",
    "version": 3
   },
   "file_extension": ".py",
   "mimetype": "text/x-python",
   "name": "python",
   "nbconvert_exporter": "python",
   "pygments_lexer": "ipython3",
   "version": "3.6.4"
  }
 },
 "nbformat": 4,
 "nbformat_minor": 2
}
